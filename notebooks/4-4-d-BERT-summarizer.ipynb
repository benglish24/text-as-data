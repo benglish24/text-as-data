{
 "cells": [
  {
   "cell_type": "markdown",
   "id": "f670feab-4ba0-4484-b158-77242e8ec35f",
   "metadata": {},
   "source": [
    "## Summarizer"
   ]
  },
  {
   "cell_type": "markdown",
   "id": "e73cd955-17f1-4b4b-baf4-27e4b6298733",
   "metadata": {},
   "source": [
    "If you are interested in having BERT summarize things for you, check out the [BERT Extractive Summarizer](https://pypi.org/project/bert-extractive-summarizer/) -- and make sure you understand the difference between abstractive and extractive summarizing."
   ]
  },
  {
   "cell_type": "markdown",
   "id": "fbc70489-0485-411c-81e6-11e7c604b179",
   "metadata": {},
   "source": [
    "<div class=\"alert alert-block alert-info\">\n",
    "<b>Tip:</b> You can run bash commands from within Jupyter. You have seen <em>line magic</em> with commands like <code>%pwd</code> to remind us where we are in the file system, but you can also use <em>cell magic</em>, as seen below, to run more complex kinds of commands. In the cell below, for example, I have used <b>pip</b> to install a Python module not yet available in MiniConda. (Note how I have commented it out after I have run it: I do not want to re-install the library if I re-run this notebook at a later date.)\n",
    "</div>"
   ]
  },
  {
   "cell_type": "code",
   "execution_count": 1,
   "id": "79d7e0ed-e484-41c2-862a-2a28db8adb62",
   "metadata": {
    "scrolled": true
   },
   "outputs": [],
   "source": [
    "# %%bash \n",
    "# pip3 install bert-extractive-summarizer"
   ]
  },
  {
   "cell_type": "code",
   "execution_count": 2,
   "id": "75a4cfb8-569b-440d-8c3a-6496807e5b41",
   "metadata": {},
   "outputs": [],
   "source": [
    "# Imports\n",
    "from summarizer import Summarizer\n",
    "\n",
    "# Instantiate the model\n",
    "model = Summarizer()"
   ]
  },
  {
   "cell_type": "code",
   "execution_count": 3,
   "id": "d90f3c35-e446-4959-abee-00ecaa5ee9c7",
   "metadata": {},
   "outputs": [
    {
     "name": "stdout",
     "output_type": "stream",
     "text": [
      "Leveraging Opportunities and Strategic Partnerships to Advance Tolerant Oysters for Restoration, or LO-SPAT, is designed to help sustain populations of the shellfish and support the seafood industry. Dr. Beth Stauffer, an associate professor of biology, is principal investigator. Jack Montoucet, Louisiana Department of Wildlife and Fisheries secretary, said LO-SPAT provides “a comprehensive approach to addressing a state, regional and national problem.\n",
      "Leveraging Opportunities and Strategic Partnerships to Advance Tolerant Oysters for Restoration, or LO-SPAT, is designed to help sustain populations of the shellfish and support the seafood industry. Jack Montoucet, Louisiana Department of Wildlife and Fisheries secretary, said LO-SPAT provides “a comprehensive approach to addressing a state, regional and national problem.\n"
     ]
    }
   ],
   "source": [
    "# Toy/Test dataset\n",
    "body = \"\"\"\n",
    "Leveraging Opportunities and Strategic Partnerships to Advance Tolerant Oysters for Restoration, or LO-SPAT, is designed to help sustain populations of the shellfish and support the seafood industry. The Louisiana Department of Wildlife and Fisheries is funding the project.\n",
    "Dr. Beth Stauffer, an associate professor of biology, is principal investigator. She and other UL Lafayette researchers are collaborating with scientists from the LSU AgCenter and the University of Maryland. Spat-Tech, a Mississippi-based oyster aquaculture company, is the private sector partner.\n",
    "“The objective is to examine low-salinity tolerant populations of oysters. We’re researching how low salinity – and other environmental stressors – factor in and identifying heritable traits that make some oysters hardier than others,” Stauffer said.\n",
    "The LO-SPAT team is examining the entire oyster life cycle, from larvae and broodstock to juveniles that can be deployed in nurseries and, ultimately, at restored reef sites.\n",
    "Louisiana is one of the nation’s major oyster-producing states, but declining production has created ecological and economic consequences.\n",
    "Jack Montoucet, Louisiana Department of Wildlife and Fisheries secretary, said LO-SPAT provides “a comprehensive approach to addressing a state, regional and national problem. Developing an oyster that can tolerate low salinity for an extended period – which we don’t have now – is important to maintaining the industry as we know it.”\n",
    "\"\"\"\n",
    "\n",
    "result_ratio = model(body, ratio=0.2)  # Specified with ratio\n",
    "result_number = model(body, num_sentences=2)  # Will return 2 sentences \n",
    "\n",
    "print(result_ratio)\n",
    "print(result_number)"
   ]
  }
 ],
 "metadata": {
  "kernelspec": {
   "display_name": "Python 3 (ipykernel)",
   "language": "python",
   "name": "python3"
  },
  "language_info": {
   "codemirror_mode": {
    "name": "ipython",
    "version": 3
   },
   "file_extension": ".py",
   "mimetype": "text/x-python",
   "name": "python",
   "nbconvert_exporter": "python",
   "pygments_lexer": "ipython3",
   "version": "3.11.7"
  }
 },
 "nbformat": 4,
 "nbformat_minor": 5
}
