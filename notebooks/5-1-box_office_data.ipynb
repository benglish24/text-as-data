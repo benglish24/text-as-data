{
 "cells": [
  {
   "cell_type": "markdown",
   "id": "7dd5a221-04bc-469f-9fc2-1e2ece80625b",
   "metadata": {},
   "source": [
    "# Gross Box Office Data"
   ]
  },
  {
   "cell_type": "markdown",
   "id": "30a6416e-9d45-4113-bed6-04a8a74441bc",
   "metadata": {},
   "source": [
    "This notebook explores grabbing the data we need to establish the lifetime gross revenues for films. I downloaded a scraper built for Box Office Mojo, but honestly, it looksl like we can get what we need from five pages that have URLs with offsets:\n",
    "```\n",
    "https://www.boxofficemojo.com/chart/ww_top_lifetime_gross/?offset=200\n",
    "```\n",
    "With that noted, let's load up `requests`, grab some pages, parse them with `BeautifulSoup`, and then explore what data structure will let us pair up revenues with film titles we have from file names."
   ]
  },
  {
   "cell_type": "markdown",
   "id": "9cebed73-498d-4e52-b359-ea6a4295f435",
   "metadata": {},
   "source": [
    "## Getting the Data"
   ]
  },
  {
   "cell_type": "code",
   "execution_count": 1,
   "id": "823d40e1-65d1-45b6-ab36-abb8d1d0efaf",
   "metadata": {},
   "outputs": [],
   "source": [
    "import urllib.request\n",
    "from bs4 import BeautifulSoup\n",
    "from io import StringIO # BeautifulSoup now prefers this as a wrapper\n",
    "import pandas as pd"
   ]
  },
  {
   "cell_type": "code",
   "execution_count": 10,
   "id": "42e110bd-2bcc-4da4-8459-6e3e4dc10b78",
   "metadata": {},
   "outputs": [],
   "source": [
    "# URL from above minus offset\n",
    "base_url = \"https://www.boxofficemojo.com/chart/ww_top_lifetime_gross/?offset=\"\n",
    "\n",
    "# Offsets to add to URL\n",
    "offsets = [0, 200, 400, 600, 800]"
   ]
  },
  {
   "cell_type": "code",
   "execution_count": 13,
   "id": "a6fc63cb-600e-46b8-a73f-627f89b3b840",
   "metadata": {},
   "outputs": [],
   "source": [
    "myurl = f\"{base_url}str[0]\"\n",
    "myconnection = urllib.request.urlopen(myurl)\n",
    "myhtml = myconnection.read()"
   ]
  },
  {
   "cell_type": "code",
   "execution_count": 14,
   "id": "c6ffd84f-ed34-461e-a8fb-8003798ca3d4",
   "metadata": {},
   "outputs": [
    {
     "name": "stdout",
     "output_type": "stream",
     "text": [
      "b'<!doctype html><html class=\"a-no-js\" data-19ax5a9jf=\"dingo\"><head><script>var aPageStart = (new Date'\n"
     ]
    }
   ],
   "source": [
    "# Check to see that things work\n",
    "print(myhtml[0:100])"
   ]
  },
  {
   "cell_type": "code",
   "execution_count": 18,
   "id": "54dadda8-252d-407b-8570-cf04f034b0f2",
   "metadata": {},
   "outputs": [],
   "source": [
    "with open('../data/bom.html', 'wb') as f:\n",
    "    f.write(myhtml)"
   ]
  },
  {
   "cell_type": "markdown",
   "id": "ecaba502-ff0c-453e-a2f6-a5d23f97cba7",
   "metadata": {},
   "source": [
    "It looks like everything is packed into a table with rows that look like this:\n",
    "\n",
    "```html\n",
    "<tr>\n",
    "    <td class=\"a-text-right mojo-header-column mojo-truncate mojo-field-type-rank\">1</td>\n",
    "    <td class=\"a-text-left mojo-field-type-title\"><a class=\"a-link-normal\" href=\"/title/tt0499549/?ref_=bo_cso_table_1\">Avatar</a></td>\n",
    "    <td class=\"a-text-right mojo-field-type-money\">$2,923,706,026</td>\n",
    "    <td class=\"a-text-right mojo-field-type-money\">$785,221,649</td>\n",
    "    <td class=\"a-text-right mojo-field-type-percent\">26.9%</td>\n",
    "    <td class=\"a-text-right mojo-field-type-money\">$2,138,484,377</td><td class=\"a-text-right mojo-field-type-percent\">73.1%</td>\n",
    "    <td class=\"a-text-left mojo-field-type-year\"><a class=\"a-link-normal\" href=\"/year/2009/?ref_=bo_cso_table_1\">2009</a></td>\n",
    "</tr>\n",
    "```\n",
    "This table is available in the bom-table.html file in the data directory. You'll see that I've deleted everything from the file that wasn't the table, and then I have isolated the single row above so I can begin to determine how to \"parse\" this using BeautifulSoup. My goal is to write this directly to a pandas dataframe, if I can.\n"
   ]
  },
  {
   "cell_type": "code",
   "execution_count": 37,
   "id": "8943ef3e-39d9-47dd-bc5a-15a9ca9a2cc2",
   "metadata": {},
   "outputs": [],
   "source": [
    "# The BeautifulSoup incantation\n",
    "soup = BeautifulSoup(myhtml,'lxml')\n",
    "\n",
    "# This is easy\n",
    "table = soup.find_all('table')"
   ]
  },
  {
   "cell_type": "code",
   "execution_count": null,
   "id": "16137b21-64d5-4dad-8300-a44af4746d0f",
   "metadata": {},
   "outputs": [],
   "source": [
    "# Send it to a dataframe\n",
    "df = pd.read_html(StringIO(str(table)))[0]"
   ]
  },
  {
   "cell_type": "code",
   "execution_count": 34,
   "id": "bc102b87-6aba-40c4-a95f-4dd70e95cd99",
   "metadata": {},
   "outputs": [
    {
     "data": {
      "text/plain": [
       "(200, 8)"
      ]
     },
     "execution_count": 34,
     "metadata": {},
     "output_type": "execute_result"
    }
   ],
   "source": [
    "# Did we get all 200 rows?\n",
    "df.shape"
   ]
  },
  {
   "cell_type": "code",
   "execution_count": 30,
   "id": "53717eba-f361-4f72-a729-9da1cc9fb943",
   "metadata": {},
   "outputs": [
    {
     "data": {
      "text/html": [
       "<div>\n",
       "<style scoped>\n",
       "    .dataframe tbody tr th:only-of-type {\n",
       "        vertical-align: middle;\n",
       "    }\n",
       "\n",
       "    .dataframe tbody tr th {\n",
       "        vertical-align: top;\n",
       "    }\n",
       "\n",
       "    .dataframe thead th {\n",
       "        text-align: right;\n",
       "    }\n",
       "</style>\n",
       "<table border=\"1\" class=\"dataframe\">\n",
       "  <thead>\n",
       "    <tr style=\"text-align: right;\">\n",
       "      <th></th>\n",
       "      <th>Rank</th>\n",
       "      <th>Title</th>\n",
       "      <th>Worldwide Lifetime Gross</th>\n",
       "      <th>Domestic Lifetime Gross</th>\n",
       "      <th>Domestic %</th>\n",
       "      <th>Foreign Lifetime Gross</th>\n",
       "      <th>Foreign %</th>\n",
       "      <th>Year</th>\n",
       "    </tr>\n",
       "  </thead>\n",
       "  <tbody>\n",
       "    <tr>\n",
       "      <th>0</th>\n",
       "      <td>1</td>\n",
       "      <td>Avatar</td>\n",
       "      <td>$2,923,706,026</td>\n",
       "      <td>$785,221,649</td>\n",
       "      <td>26.9%</td>\n",
       "      <td>$2,138,484,377</td>\n",
       "      <td>73.1%</td>\n",
       "      <td>2009</td>\n",
       "    </tr>\n",
       "    <tr>\n",
       "      <th>1</th>\n",
       "      <td>2</td>\n",
       "      <td>Avengers: Endgame</td>\n",
       "      <td>$2,799,439,100</td>\n",
       "      <td>$858,373,000</td>\n",
       "      <td>30.7%</td>\n",
       "      <td>$1,941,066,100</td>\n",
       "      <td>69.3%</td>\n",
       "      <td>2019</td>\n",
       "    </tr>\n",
       "    <tr>\n",
       "      <th>2</th>\n",
       "      <td>3</td>\n",
       "      <td>Avatar: The Way of Water</td>\n",
       "      <td>$2,320,250,281</td>\n",
       "      <td>$684,075,767</td>\n",
       "      <td>29.5%</td>\n",
       "      <td>$1,636,174,514</td>\n",
       "      <td>70.5%</td>\n",
       "      <td>2022</td>\n",
       "    </tr>\n",
       "    <tr>\n",
       "      <th>3</th>\n",
       "      <td>4</td>\n",
       "      <td>Titanic</td>\n",
       "      <td>$2,264,750,694</td>\n",
       "      <td>$674,292,608</td>\n",
       "      <td>29.8%</td>\n",
       "      <td>$1,590,458,086</td>\n",
       "      <td>70.2%</td>\n",
       "      <td>1997</td>\n",
       "    </tr>\n",
       "    <tr>\n",
       "      <th>4</th>\n",
       "      <td>5</td>\n",
       "      <td>Star Wars: Episode VII - The Force Awakens</td>\n",
       "      <td>$2,071,310,218</td>\n",
       "      <td>$936,662,225</td>\n",
       "      <td>45.2%</td>\n",
       "      <td>$1,134,647,993</td>\n",
       "      <td>54.8%</td>\n",
       "      <td>2015</td>\n",
       "    </tr>\n",
       "  </tbody>\n",
       "</table>\n",
       "</div>"
      ],
      "text/plain": [
       "   Rank                                       Title Worldwide Lifetime Gross  \\\n",
       "0     1                                      Avatar           $2,923,706,026   \n",
       "1     2                           Avengers: Endgame           $2,799,439,100   \n",
       "2     3                    Avatar: The Way of Water           $2,320,250,281   \n",
       "3     4                                     Titanic           $2,264,750,694   \n",
       "4     5  Star Wars: Episode VII - The Force Awakens           $2,071,310,218   \n",
       "\n",
       "  Domestic Lifetime Gross Domestic % Foreign Lifetime Gross Foreign %  Year  \n",
       "0            $785,221,649      26.9%         $2,138,484,377     73.1%  2009  \n",
       "1            $858,373,000      30.7%         $1,941,066,100     69.3%  2019  \n",
       "2            $684,075,767      29.5%         $1,636,174,514     70.5%  2022  \n",
       "3            $674,292,608      29.8%         $1,590,458,086     70.2%  1997  \n",
       "4            $936,662,225      45.2%         $1,134,647,993     54.8%  2015  "
      ]
     },
     "execution_count": 30,
     "metadata": {},
     "output_type": "execute_result"
    }
   ],
   "source": [
    "# How's it look?\n",
    "df.head()"
   ]
  },
  {
   "cell_type": "markdown",
   "id": "73527eb5-06bd-4d83-bdd1-db90251dc229",
   "metadata": {},
   "source": [
    "Listen, we could write a function, or a `for` loop, but honestly we only have to do this four more times, and I think it'll just be easier to put everything into a cell and then run that cell four times with an edit to the offset number and to the dataframe. We'll then merge all the dataframes at the end and save that to a CSV. "
   ]
  },
  {
   "cell_type": "code",
   "execution_count": 52,
   "id": "91c2528c-af75-4feb-b459-6cbe34b9e097",
   "metadata": {},
   "outputs": [
    {
     "data": {
      "text/html": [
       "<div>\n",
       "<style scoped>\n",
       "    .dataframe tbody tr th:only-of-type {\n",
       "        vertical-align: middle;\n",
       "    }\n",
       "\n",
       "    .dataframe tbody tr th {\n",
       "        vertical-align: top;\n",
       "    }\n",
       "\n",
       "    .dataframe thead th {\n",
       "        text-align: right;\n",
       "    }\n",
       "</style>\n",
       "<table border=\"1\" class=\"dataframe\">\n",
       "  <thead>\n",
       "    <tr style=\"text-align: right;\">\n",
       "      <th></th>\n",
       "      <th>Rank</th>\n",
       "      <th>Title</th>\n",
       "      <th>Worldwide Lifetime Gross</th>\n",
       "      <th>Domestic Lifetime Gross</th>\n",
       "      <th>Domestic %</th>\n",
       "      <th>Foreign Lifetime Gross</th>\n",
       "      <th>Foreign %</th>\n",
       "      <th>Year</th>\n",
       "    </tr>\n",
       "  </thead>\n",
       "  <tbody>\n",
       "    <tr>\n",
       "      <th>0</th>\n",
       "      <td>1201</td>\n",
       "      <td>P.S. I Love You</td>\n",
       "      <td>$156,846,321</td>\n",
       "      <td>$53,706,790</td>\n",
       "      <td>34.2%</td>\n",
       "      <td>$103,139,531</td>\n",
       "      <td>65.8%</td>\n",
       "      <td>2007</td>\n",
       "    </tr>\n",
       "    <tr>\n",
       "      <th>1</th>\n",
       "      <td>1202</td>\n",
       "      <td>The Monuments Men</td>\n",
       "      <td>$156,706,638</td>\n",
       "      <td>$78,031,620</td>\n",
       "      <td>49.8%</td>\n",
       "      <td>$78,675,018</td>\n",
       "      <td>50.2%</td>\n",
       "      <td>2014</td>\n",
       "    </tr>\n",
       "    <tr>\n",
       "      <th>2</th>\n",
       "      <td>1203</td>\n",
       "      <td>Mystic River</td>\n",
       "      <td>$156,595,191</td>\n",
       "      <td>$90,135,191</td>\n",
       "      <td>57.6%</td>\n",
       "      <td>$66,460,000</td>\n",
       "      <td>42.4%</td>\n",
       "      <td>2003</td>\n",
       "    </tr>\n",
       "    <tr>\n",
       "      <th>3</th>\n",
       "      <td>1204</td>\n",
       "      <td>Under Siege</td>\n",
       "      <td>$156,563,139</td>\n",
       "      <td>$83,563,139</td>\n",
       "      <td>53.4%</td>\n",
       "      <td>$73,000,000</td>\n",
       "      <td>46.6%</td>\n",
       "      <td>1992</td>\n",
       "    </tr>\n",
       "    <tr>\n",
       "      <th>4</th>\n",
       "      <td>1205</td>\n",
       "      <td>This Means War</td>\n",
       "      <td>$156,491,279</td>\n",
       "      <td>$54,760,791</td>\n",
       "      <td>35%</td>\n",
       "      <td>$101,730,488</td>\n",
       "      <td>65%</td>\n",
       "      <td>2012</td>\n",
       "    </tr>\n",
       "  </tbody>\n",
       "</table>\n",
       "</div>"
      ],
      "text/plain": [
       "   Rank              Title Worldwide Lifetime Gross Domestic Lifetime Gross  \\\n",
       "0  1201    P.S. I Love You             $156,846,321             $53,706,790   \n",
       "1  1202  The Monuments Men             $156,706,638             $78,031,620   \n",
       "2  1203       Mystic River             $156,595,191             $90,135,191   \n",
       "3  1204        Under Siege             $156,563,139             $83,563,139   \n",
       "4  1205     This Means War             $156,491,279             $54,760,791   \n",
       "\n",
       "  Domestic % Foreign Lifetime Gross Foreign %  Year  \n",
       "0      34.2%           $103,139,531     65.8%  2007  \n",
       "1      49.8%            $78,675,018     50.2%  2014  \n",
       "2      57.6%            $66,460,000     42.4%  2003  \n",
       "3      53.4%            $73,000,000     46.6%  1992  \n",
       "4        35%           $101,730,488       65%  2012  "
      ]
     },
     "execution_count": 52,
     "metadata": {},
     "output_type": "execute_result"
    }
   ],
   "source": [
    "myurl = \"https://www.boxofficemojo.com/chart/ww_top_lifetime_gross/?offset=1200\"\n",
    "myconnection = urllib.request.urlopen(myurl)\n",
    "myhtml = myconnection.read()\n",
    "soup = BeautifulSoup(myhtml,'lxml')\n",
    "table = soup.find_all('table')\n",
    "df_1200 = pd.read_html(StringIO(str(table)))[0]\n",
    "df_1200.head()"
   ]
  },
  {
   "cell_type": "markdown",
   "id": "6778f474-c0a6-4982-aa8f-332f9526e3cf",
   "metadata": {},
   "source": [
    "So now I have dataframe with offsets of 0, 200, 400, 600, 800, 1000, and 1200. That's 7 dataframes with 1400 box office results! Let's get them all into a single dataframe and then save the 1400 lines to a CSV."
   ]
  },
  {
   "cell_type": "code",
   "execution_count": 55,
   "id": "9f6f9c45-5a56-4c9d-ba48-050946e85040",
   "metadata": {},
   "outputs": [],
   "source": [
    "df_all = pd.concat([df, df_200, df_400, df_600, df_800, df_1000, df_1200], ignore_index=True)"
   ]
  },
  {
   "cell_type": "code",
   "execution_count": 56,
   "id": "13a160de-7d98-45d4-a891-c5c6cf592e4b",
   "metadata": {},
   "outputs": [
    {
     "data": {
      "text/plain": [
       "(1400, 8)"
      ]
     },
     "execution_count": 56,
     "metadata": {},
     "output_type": "execute_result"
    }
   ],
   "source": [
    "df_all.shape"
   ]
  },
  {
   "cell_type": "code",
   "execution_count": 57,
   "id": "1a6b269d-8e72-4d83-b202-fefdbd014999",
   "metadata": {},
   "outputs": [
    {
     "data": {
      "text/html": [
       "<div>\n",
       "<style scoped>\n",
       "    .dataframe tbody tr th:only-of-type {\n",
       "        vertical-align: middle;\n",
       "    }\n",
       "\n",
       "    .dataframe tbody tr th {\n",
       "        vertical-align: top;\n",
       "    }\n",
       "\n",
       "    .dataframe thead th {\n",
       "        text-align: right;\n",
       "    }\n",
       "</style>\n",
       "<table border=\"1\" class=\"dataframe\">\n",
       "  <thead>\n",
       "    <tr style=\"text-align: right;\">\n",
       "      <th></th>\n",
       "      <th>Rank</th>\n",
       "      <th>Title</th>\n",
       "      <th>Worldwide Lifetime Gross</th>\n",
       "      <th>Domestic Lifetime Gross</th>\n",
       "      <th>Domestic %</th>\n",
       "      <th>Foreign Lifetime Gross</th>\n",
       "      <th>Foreign %</th>\n",
       "      <th>Year</th>\n",
       "    </tr>\n",
       "  </thead>\n",
       "  <tbody>\n",
       "    <tr>\n",
       "      <th>0</th>\n",
       "      <td>1</td>\n",
       "      <td>Avatar</td>\n",
       "      <td>$2,923,706,026</td>\n",
       "      <td>$785,221,649</td>\n",
       "      <td>26.9%</td>\n",
       "      <td>$2,138,484,377</td>\n",
       "      <td>73.1%</td>\n",
       "      <td>2009</td>\n",
       "    </tr>\n",
       "    <tr>\n",
       "      <th>1</th>\n",
       "      <td>2</td>\n",
       "      <td>Avengers: Endgame</td>\n",
       "      <td>$2,799,439,100</td>\n",
       "      <td>$858,373,000</td>\n",
       "      <td>30.7%</td>\n",
       "      <td>$1,941,066,100</td>\n",
       "      <td>69.3%</td>\n",
       "      <td>2019</td>\n",
       "    </tr>\n",
       "    <tr>\n",
       "      <th>2</th>\n",
       "      <td>3</td>\n",
       "      <td>Avatar: The Way of Water</td>\n",
       "      <td>$2,320,250,281</td>\n",
       "      <td>$684,075,767</td>\n",
       "      <td>29.5%</td>\n",
       "      <td>$1,636,174,514</td>\n",
       "      <td>70.5%</td>\n",
       "      <td>2022</td>\n",
       "    </tr>\n",
       "    <tr>\n",
       "      <th>3</th>\n",
       "      <td>4</td>\n",
       "      <td>Titanic</td>\n",
       "      <td>$2,264,750,694</td>\n",
       "      <td>$674,292,608</td>\n",
       "      <td>29.8%</td>\n",
       "      <td>$1,590,458,086</td>\n",
       "      <td>70.2%</td>\n",
       "      <td>1997</td>\n",
       "    </tr>\n",
       "    <tr>\n",
       "      <th>4</th>\n",
       "      <td>5</td>\n",
       "      <td>Star Wars: Episode VII - The Force Awakens</td>\n",
       "      <td>$2,071,310,218</td>\n",
       "      <td>$936,662,225</td>\n",
       "      <td>45.2%</td>\n",
       "      <td>$1,134,647,993</td>\n",
       "      <td>54.8%</td>\n",
       "      <td>2015</td>\n",
       "    </tr>\n",
       "    <tr>\n",
       "      <th>...</th>\n",
       "      <td>...</td>\n",
       "      <td>...</td>\n",
       "      <td>...</td>\n",
       "      <td>...</td>\n",
       "      <td>...</td>\n",
       "      <td>...</td>\n",
       "      <td>...</td>\n",
       "      <td>...</td>\n",
       "    </tr>\n",
       "    <tr>\n",
       "      <th>1395</th>\n",
       "      <td>1396</td>\n",
       "      <td>A League of Their Own</td>\n",
       "      <td>$132,440,069</td>\n",
       "      <td>$107,533,928</td>\n",
       "      <td>81.2%</td>\n",
       "      <td>$24,906,141</td>\n",
       "      <td>18.8%</td>\n",
       "      <td>1992</td>\n",
       "    </tr>\n",
       "    <tr>\n",
       "      <th>1396</th>\n",
       "      <td>1397</td>\n",
       "      <td>Be Somebody</td>\n",
       "      <td>$132,326,332</td>\n",
       "      <td>-</td>\n",
       "      <td>-</td>\n",
       "      <td>$132,326,332</td>\n",
       "      <td>100%</td>\n",
       "      <td>2021</td>\n",
       "    </tr>\n",
       "    <tr>\n",
       "      <th>1397</th>\n",
       "      <td>1398</td>\n",
       "      <td>The Three Musketeers</td>\n",
       "      <td>$132,274,484</td>\n",
       "      <td>$20,374,484</td>\n",
       "      <td>15.4%</td>\n",
       "      <td>$111,900,000</td>\n",
       "      <td>84.6%</td>\n",
       "      <td>2011</td>\n",
       "    </tr>\n",
       "    <tr>\n",
       "      <th>1398</th>\n",
       "      <td>1399</td>\n",
       "      <td>Suzume</td>\n",
       "      <td>$132,181,655</td>\n",
       "      <td>$10,932,037</td>\n",
       "      <td>8.3%</td>\n",
       "      <td>$121,249,618</td>\n",
       "      <td>91.7%</td>\n",
       "      <td>2022</td>\n",
       "    </tr>\n",
       "    <tr>\n",
       "      <th>1399</th>\n",
       "      <td>1400</td>\n",
       "      <td>Blade: Trinity</td>\n",
       "      <td>$131,977,904</td>\n",
       "      <td>$52,411,906</td>\n",
       "      <td>39.7%</td>\n",
       "      <td>$79,565,998</td>\n",
       "      <td>60.3%</td>\n",
       "      <td>2004</td>\n",
       "    </tr>\n",
       "  </tbody>\n",
       "</table>\n",
       "<p>1400 rows × 8 columns</p>\n",
       "</div>"
      ],
      "text/plain": [
       "      Rank                                       Title  \\\n",
       "0        1                                      Avatar   \n",
       "1        2                           Avengers: Endgame   \n",
       "2        3                    Avatar: The Way of Water   \n",
       "3        4                                     Titanic   \n",
       "4        5  Star Wars: Episode VII - The Force Awakens   \n",
       "...    ...                                         ...   \n",
       "1395  1396                       A League of Their Own   \n",
       "1396  1397                                 Be Somebody   \n",
       "1397  1398                        The Three Musketeers   \n",
       "1398  1399                                      Suzume   \n",
       "1399  1400                              Blade: Trinity   \n",
       "\n",
       "     Worldwide Lifetime Gross Domestic Lifetime Gross Domestic %  \\\n",
       "0              $2,923,706,026            $785,221,649      26.9%   \n",
       "1              $2,799,439,100            $858,373,000      30.7%   \n",
       "2              $2,320,250,281            $684,075,767      29.5%   \n",
       "3              $2,264,750,694            $674,292,608      29.8%   \n",
       "4              $2,071,310,218            $936,662,225      45.2%   \n",
       "...                       ...                     ...        ...   \n",
       "1395             $132,440,069            $107,533,928      81.2%   \n",
       "1396             $132,326,332                       -          -   \n",
       "1397             $132,274,484             $20,374,484      15.4%   \n",
       "1398             $132,181,655             $10,932,037       8.3%   \n",
       "1399             $131,977,904             $52,411,906      39.7%   \n",
       "\n",
       "     Foreign Lifetime Gross Foreign %  Year  \n",
       "0            $2,138,484,377     73.1%  2009  \n",
       "1            $1,941,066,100     69.3%  2019  \n",
       "2            $1,636,174,514     70.5%  2022  \n",
       "3            $1,590,458,086     70.2%  1997  \n",
       "4            $1,134,647,993     54.8%  2015  \n",
       "...                     ...       ...   ...  \n",
       "1395            $24,906,141     18.8%  1992  \n",
       "1396           $132,326,332      100%  2021  \n",
       "1397           $111,900,000     84.6%  2011  \n",
       "1398           $121,249,618     91.7%  2022  \n",
       "1399            $79,565,998     60.3%  2004  \n",
       "\n",
       "[1400 rows x 8 columns]"
      ]
     },
     "execution_count": 57,
     "metadata": {},
     "output_type": "execute_result"
    }
   ],
   "source": [
    "df_all"
   ]
  },
  {
   "cell_type": "code",
   "execution_count": null,
   "id": "d16d75cb-236d-49ba-af8c-1b125c2536cf",
   "metadata": {},
   "outputs": [],
   "source": [
    "# df_all.to_csv(\"../data/boxoffice.csv\")"
   ]
  },
  {
   "cell_type": "markdown",
   "id": "ea56d380-f75a-4413-a07b-c65b4c242334",
   "metadata": {},
   "source": [
    "## Connecting the Data"
   ]
  },
  {
   "cell_type": "markdown",
   "id": "43f505d9-7cac-4b7c-a16d-cfc4a111ccac",
   "metadata": {},
   "source": [
    "So, now we have the gross revenues for at least 1400 films, and we could get more if we needed. We need to connect to connect the films here with the films we have in our corpora. "
   ]
  },
  {
   "cell_type": "code",
   "execution_count": 8,
   "id": "556f81c5-3c67-4a4b-a824-6a9a4f93193d",
   "metadata": {},
   "outputs": [],
   "source": [
    "from pathlib import Path\n",
    "import pandas as pd"
   ]
  },
  {
   "cell_type": "code",
   "execution_count": 11,
   "id": "2807bfdf-f58f-4359-a473-ec5f51aa6155",
   "metadata": {},
   "outputs": [
    {
     "data": {
      "text/html": [
       "<div>\n",
       "<style scoped>\n",
       "    .dataframe tbody tr th:only-of-type {\n",
       "        vertical-align: middle;\n",
       "    }\n",
       "\n",
       "    .dataframe tbody tr th {\n",
       "        vertical-align: top;\n",
       "    }\n",
       "\n",
       "    .dataframe thead th {\n",
       "        text-align: right;\n",
       "    }\n",
       "</style>\n",
       "<table border=\"1\" class=\"dataframe\">\n",
       "  <thead>\n",
       "    <tr style=\"text-align: right;\">\n",
       "      <th></th>\n",
       "      <th>Rank</th>\n",
       "      <th>Title</th>\n",
       "      <th>Worldwide Lifetime Gross</th>\n",
       "      <th>Domestic Lifetime Gross</th>\n",
       "      <th>Domestic %</th>\n",
       "      <th>Foreign Lifetime Gross</th>\n",
       "      <th>Foreign %</th>\n",
       "      <th>Year</th>\n",
       "    </tr>\n",
       "  </thead>\n",
       "  <tbody>\n",
       "    <tr>\n",
       "      <th>0</th>\n",
       "      <td>1</td>\n",
       "      <td>Avatar</td>\n",
       "      <td>$2,923,706,026</td>\n",
       "      <td>$785,221,649</td>\n",
       "      <td>26.9%</td>\n",
       "      <td>$2,138,484,377</td>\n",
       "      <td>73.1%</td>\n",
       "      <td>2009</td>\n",
       "    </tr>\n",
       "    <tr>\n",
       "      <th>1</th>\n",
       "      <td>2</td>\n",
       "      <td>Avengers: Endgame</td>\n",
       "      <td>$2,799,439,100</td>\n",
       "      <td>$858,373,000</td>\n",
       "      <td>30.7%</td>\n",
       "      <td>$1,941,066,100</td>\n",
       "      <td>69.3%</td>\n",
       "      <td>2019</td>\n",
       "    </tr>\n",
       "    <tr>\n",
       "      <th>2</th>\n",
       "      <td>3</td>\n",
       "      <td>Avatar: The Way of Water</td>\n",
       "      <td>$2,320,250,281</td>\n",
       "      <td>$684,075,767</td>\n",
       "      <td>29.5%</td>\n",
       "      <td>$1,636,174,514</td>\n",
       "      <td>70.5%</td>\n",
       "      <td>2022</td>\n",
       "    </tr>\n",
       "    <tr>\n",
       "      <th>3</th>\n",
       "      <td>4</td>\n",
       "      <td>Titanic</td>\n",
       "      <td>$2,264,750,694</td>\n",
       "      <td>$674,292,608</td>\n",
       "      <td>29.8%</td>\n",
       "      <td>$1,590,458,086</td>\n",
       "      <td>70.2%</td>\n",
       "      <td>1997</td>\n",
       "    </tr>\n",
       "    <tr>\n",
       "      <th>4</th>\n",
       "      <td>5</td>\n",
       "      <td>Star Wars: Episode VII - The Force Awakens</td>\n",
       "      <td>$2,071,310,218</td>\n",
       "      <td>$936,662,225</td>\n",
       "      <td>45.2%</td>\n",
       "      <td>$1,134,647,993</td>\n",
       "      <td>54.8%</td>\n",
       "      <td>2015</td>\n",
       "    </tr>\n",
       "  </tbody>\n",
       "</table>\n",
       "</div>"
      ],
      "text/plain": [
       "   Rank                                       Title Worldwide Lifetime Gross  \\\n",
       "0     1                                      Avatar           $2,923,706,026   \n",
       "1     2                           Avengers: Endgame           $2,799,439,100   \n",
       "2     3                    Avatar: The Way of Water           $2,320,250,281   \n",
       "3     4                                     Titanic           $2,264,750,694   \n",
       "4     5  Star Wars: Episode VII - The Force Awakens           $2,071,310,218   \n",
       "\n",
       "  Domestic Lifetime Gross Domestic % Foreign Lifetime Gross Foreign %  Year  \n",
       "0            $785,221,649      26.9%         $2,138,484,377     73.1%  2009  \n",
       "1            $858,373,000      30.7%         $1,941,066,100     69.3%  2019  \n",
       "2            $684,075,767      29.5%         $1,636,174,514     70.5%  2022  \n",
       "3            $674,292,608      29.8%         $1,590,458,086     70.2%  1997  \n",
       "4            $936,662,225      45.2%         $1,134,647,993     54.8%  2015  "
      ]
     },
     "execution_count": 11,
     "metadata": {},
     "output_type": "execute_result"
    }
   ],
   "source": [
    "df = pd.read_csv(\"../data/boxoffice.csv\", index_col = 0)\n",
    "df.head()"
   ]
  },
  {
   "cell_type": "code",
   "execution_count": 13,
   "id": "4ed0ec38-f860-44a7-b7bf-1b3fd0b6b05d",
   "metadata": {},
   "outputs": [
    {
     "data": {
      "text/html": [
       "<div>\n",
       "<style scoped>\n",
       "    .dataframe tbody tr th:only-of-type {\n",
       "        vertical-align: middle;\n",
       "    }\n",
       "\n",
       "    .dataframe tbody tr th {\n",
       "        vertical-align: top;\n",
       "    }\n",
       "\n",
       "    .dataframe thead th {\n",
       "        text-align: right;\n",
       "    }\n",
       "</style>\n",
       "<table border=\"1\" class=\"dataframe\">\n",
       "  <thead>\n",
       "    <tr style=\"text-align: right;\">\n",
       "      <th></th>\n",
       "      <th>Rank</th>\n",
       "      <th>Title</th>\n",
       "      <th>Worldwide Lifetime Gross</th>\n",
       "      <th>Domestic Lifetime Gross</th>\n",
       "      <th>Domestic %</th>\n",
       "      <th>Foreign Lifetime Gross</th>\n",
       "      <th>Foreign %</th>\n",
       "      <th>Year</th>\n",
       "    </tr>\n",
       "  </thead>\n",
       "  <tbody>\n",
       "    <tr>\n",
       "      <th>706</th>\n",
       "      <td>707</td>\n",
       "      <td>A Few Good Men</td>\n",
       "      <td>$243,240,178</td>\n",
       "      <td>$141,340,178</td>\n",
       "      <td>58.1%</td>\n",
       "      <td>$101,900,000</td>\n",
       "      <td>41.9%</td>\n",
       "      <td>1992</td>\n",
       "    </tr>\n",
       "  </tbody>\n",
       "</table>\n",
       "</div>"
      ],
      "text/plain": [
       "     Rank           Title Worldwide Lifetime Gross Domestic Lifetime Gross  \\\n",
       "706   707  A Few Good Men             $243,240,178            $141,340,178   \n",
       "\n",
       "    Domestic % Foreign Lifetime Gross Foreign %  Year  \n",
       "706      58.1%           $101,900,000     41.9%  1992  "
      ]
     },
     "execution_count": 13,
     "metadata": {},
     "output_type": "execute_result"
    }
   ],
   "source": [
    "df.query(\"Title == 'A Few Good Men'\")"
   ]
  },
  {
   "cell_type": "code",
   "execution_count": 27,
   "id": "de8a16cb-ed69-4236-8f1c-f556f3027384",
   "metadata": {},
   "outputs": [
    {
     "name": "stdout",
     "output_type": "stream",
     "text": [
      "<class 'str'> A Few Good Men\n"
     ]
    }
   ],
   "source": [
    "df_query = df.query(\"Title == 'A Few Good Men'\")['Title'].values[0]\n",
    "print(type(df_query), df_query)"
   ]
  },
  {
   "cell_type": "code",
   "execution_count": 16,
   "id": "01257e4d-5c4c-4848-adff-fd26f965701b",
   "metadata": {},
   "outputs": [
    {
     "data": {
      "text/plain": [
       "['redridinghood.txt',\n",
       " 'manhattanmurdermystery.txt',\n",
       " 'twinpeaks.txt',\n",
       " 'imaginariumofdoctorparnassusthe.txt',\n",
       " 'hellraiserdeader.txt']"
      ]
     },
     "execution_count": 16,
     "metadata": {},
     "output_type": "execute_result"
    }
   ],
   "source": [
    "files = []\n",
    "for p in Path('../queue/Mystery/').glob('*.txt'):\n",
    "    with open(p, mode=\"r\") as f:\n",
    "        files.append(p.name)\n",
    "\n",
    "files[:5]"
   ]
  },
  {
   "cell_type": "code",
   "execution_count": 30,
   "id": "c14a4358-70b5-4213-bd6c-5d69e5730cb5",
   "metadata": {},
   "outputs": [
    {
     "name": "stdout",
     "output_type": "stream",
     "text": [
      "afewgoodmen.txt\n"
     ]
    }
   ],
   "source": [
    "match_file = \"afewgoodmen.txt\"\n",
    "\n",
    "for i in files:\n",
    "    if i == match_file:\n",
    "        print(i)"
   ]
  },
  {
   "cell_type": "markdown",
   "id": "412cdbff-49e4-4481-b972-9405b52c37af",
   "metadata": {},
   "source": [
    "So we need to find a way to match \"A Few Good Men\" with \"afewgoodmen.txt\". We can do a couple of things to make that happen: on the file name, we need to drop the `.txt`; on the dataframe title we need to `lower()` and remove spaces."
   ]
  },
  {
   "cell_type": "code",
   "execution_count": 34,
   "id": "322851a9-0f8b-4bdb-b575-d6c674a0f20b",
   "metadata": {},
   "outputs": [
    {
     "name": "stdout",
     "output_type": "stream",
     "text": [
      "afewgoodmen afewgoodmen Match = True\n"
     ]
    }
   ],
   "source": [
    "the_file = match_file[:-4]\n",
    "the_title = df_query.lower().replace(\" \", \"\")\n",
    "\n",
    "print(the_file, the_title, f\"Match = {the_file==the_title}\")"
   ]
  }
 ],
 "metadata": {
  "kernelspec": {
   "display_name": "Python 3 (ipykernel)",
   "language": "python",
   "name": "python3"
  },
  "language_info": {
   "codemirror_mode": {
    "name": "ipython",
    "version": 3
   },
   "file_extension": ".py",
   "mimetype": "text/x-python",
   "name": "python",
   "nbconvert_exporter": "python",
   "pygments_lexer": "ipython3",
   "version": "3.11.7"
  }
 },
 "nbformat": 4,
 "nbformat_minor": 5
}
