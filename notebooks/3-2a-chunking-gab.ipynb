{
 "cells": [
  {
   "cell_type": "markdown",
   "id": "dee921a6-e7b8-4d72-b790-ea3920c3dcab",
   "metadata": {},
   "source": [
    "# Chunking Gab"
   ]
  },
  {
   "cell_type": "markdown",
   "id": "da88d10f-32fa-4738-ba14-f1b94a259878",
   "metadata": {},
   "source": [
    "This notebook is intended only to demonstrate that it is possible to chain a series of actions together to explore various dimensions of a data set and/or to achieve various analyses. None of the code here is terribly complicated or advanced. "
   ]
  },
  {
   "cell_type": "code",
   "execution_count": 1,
   "id": "dd08b2ea-eeaf-4e17-bfa9-70fb8e39d05d",
   "metadata": {},
   "outputs": [],
   "source": [
    "# All the imports upfront\n",
    "import re\n",
    "import nltk\n",
    "import pandas as pd\n",
    "\n",
    "# # And then the MPL import and settings\n",
    "# import matplotlib.pyplot as plt\n",
    "# # Set plt parameters\n",
    "# plt.rcParams['figure.dpi'] = 300\n",
    "# plt.rcParams[\"figure.figsize\"] = (10,5)"
   ]
  },
  {
   "cell_type": "markdown",
   "id": "32937262-358a-4848-841d-9f59038d1552",
   "metadata": {},
   "source": [
    "Since I never saved my cleaned up texts from last time, I will need to re-create my steps here. Before I am done, however, I will make sure to save things to a file!"
   ]
  },
  {
   "cell_type": "code",
   "execution_count": 2,
   "id": "bb0f0922-aef5-4b09-8fe4-808e89b21659",
   "metadata": {},
   "outputs": [
    {
     "name": "stdout",
     "output_type": "stream",
     "text": [
      "You've got 70596 gab chats!\n",
      "Here's a sample:\n",
      "\n",
      " Thank you. I’m just a very lonely person. I had someone, kind of, or at least I thought I did (maybe I never had her; I don’t know), but she doesn’t want me anymore. I’ve been trying to find someone for a long time now. I’m the real deal. I like sex, but I find non-procreative sex pointless. My theory is that men were given the urge so that they’d procreate. So I understand we have that urge and need to satiate it, lest we go mad, but I find it totally pointless if it’s not for making babies. I’m not big on banging anything that moves. I used to go to pubs and clubs and did some of that, but never as much as I could’ve if I’d really wanted to. Those encounters are short-lived and leave you feeling very alone and used the next day when she’s left in a cab. I’m not about that and never was. I did it, but only because I couldn’t find a woman to marry me and give me kids. Now, every girl I meet who says she wants that is more interested in her work/business or too broken to pair bond anymore/scared of getting hurt again. It seems many girls have picked the wrong men, been hurt and damaged, and now good men are suffering because, well, hurt people hurt people. I’ve wanted to marry since I was a teenager, but it just never happened for me because — women lol. One could argue I was never a good enough man? I don’t know. I’m trying to be the best man I can be. I’m trying to improve. I want to be a good man. I want to be worthy of a good girl, if there is such a thing anymore\n",
      " \n",
      " Maybe we’ll just die out and the jews will win. Maybe we deserve this. Our men let our women down and now they’re letting us down by refusing to breed. Our generation will suffer because of what the Boomers did. The Boomers are the worse generation that ever lived. They’ve totally destroyed everything for us. They had careers, safe neighbourhoods, money, children. We weren’t afforded any of those things because of their mistakes, and we’ll die out having never created life. It’s crazy to think that a whole generation will never be. The generation born of the Millennials will be so incidental that it’ll be as if they were never there. The children of Gen Xers might be a bit more fruitful, but I’m not sure. I think we’re doomed\n",
      " \n"
     ]
    }
   ],
   "source": [
    "# Load the data from the file\n",
    "# But not if the line starts with three dashes\n",
    "with open(\"../queue/gab-chatlogs.txt\") as f:\n",
    "    chatlog = [n for n in f.readlines() if not n.startswith('---')]\n",
    "\n",
    "# Delete first four lines\n",
    "# (Discovered last time)\n",
    "del chatlog[0:4]\n",
    "\n",
    "# Join our list of strings into one big string again\n",
    "chats = \" \".join(chatlog)\n",
    "\n",
    "# And then split the joined string at date-time\n",
    "re_datetime = re.compile(\"\\d{4}-\\d{2}-\\d{2}T\\d{2}:\\d{2}:\\d{2}\")\n",
    "splits = re.split(re_datetime, chats)\n",
    "\n",
    "# This is the regex pattern we are going to use\n",
    "# to identify the user. It reads as follows:\n",
    "# ^     - start of line\n",
    "#       - space (it's there)\n",
    "# (.*?) - capture group\n",
    "# :     - colon\n",
    "re_user = re.compile(\"^ (.*?):\")\n",
    "\n",
    "# For loop to remove the user from the start of the line:\n",
    "texts = []\n",
    "for i in splits:\n",
    "    text = re.sub(re_user, \"\", i, count=1)\n",
    "    texts.append(text)\n",
    "\n",
    "# Check our results\n",
    "print(f\"You've got {len(texts)} gab chats!\")\n",
    "print(f\"Here's a sample:\\n\")\n",
    "for i in texts[100:102]:\n",
    "    print(i)"
   ]
  },
  {
   "cell_type": "code",
   "execution_count": 3,
   "id": "49ccd760-898b-413e-be07-1537dc10ca54",
   "metadata": {},
   "outputs": [],
   "source": [
    "# I'd like to save these gab chats to a text file using writelines,\n",
    "# so I want to remove all newline markers within the texts\n",
    "gabs = [re.sub(\"\\n\", \" \", text) for text in texts]\n",
    "\n",
    "# Annnnd then we re-introduce newline markers \n",
    "# to separate the gab chats\n",
    "# with open(\"../queue/gabs.txt\", \"w\") as f:\n",
    "#     f.writelines([f\"{gab}\\n\" for gab in gabs])"
   ]
  },
  {
   "cell_type": "markdown",
   "id": "e3558f6d-5415-45f3-b8c7-8281b8fbcb9b",
   "metadata": {},
   "source": [
    "<div class=\"alert alert-block alert-info\">\n",
    "<b>Tip:</b> Usually once I've written a file in a notebook, I will comment it out so I don't overwrite that file by accident. If the notebook is one I am going to come back to later, I will go ahead and write the code to load that file back into memory just below.\n",
    "</div>"
   ]
  },
  {
   "cell_type": "code",
   "execution_count": 4,
   "id": "07643600-eb2c-4112-aaa2-76349d048ff8",
   "metadata": {},
   "outputs": [],
   "source": [
    "with open(\"../queue/gabs.txt\", \"r\") as f:\n",
    "    gabs = f.readlines()"
   ]
  },
  {
   "cell_type": "code",
   "execution_count": 5,
   "id": "327518c8-b300-4952-a1d1-5511750143ba",
   "metadata": {},
   "outputs": [],
   "source": [
    "# Now let's tokenize our gabs\n",
    "tokenized = []\n",
    "for i in gabs:\n",
    "    tokens = nltk.tokenize.word_tokenize(i)\n",
    "    tokenized.append(tokens)\n",
    "\n",
    "# List comprehensions are for loops\n",
    "# Written somewhat differently\n",
    "tagged = [nltk.pos_tag(i) for i in tokenized]"
   ]
  },
  {
   "cell_type": "code",
   "execution_count": 6,
   "id": "b355808c-93ae-4f88-9408-c6f43f098929",
   "metadata": {},
   "outputs": [
    {
     "data": {
      "text/plain": [
       "[[('I', 'PRP'),\n",
       "  ('got', 'VBD'),\n",
       "  ('DM', 'NNP'),\n",
       "  ('’', 'NNP'),\n",
       "  ('s', 'VBD'),\n",
       "  ('back', 'RP'),\n",
       "  ('😈😂', 'NN')],\n",
       " [('its', 'PRP$'), ('happening', 'VBG')],\n",
       " [('Squeeeeeeeeeeeee', 'NNP'), ('😆', 'NN')],\n",
       " [('Hello', 'NNP'),\n",
       "  (',', ','),\n",
       "  ('Beautiful', 'NNP'),\n",
       "  ('Lady', 'NNP'),\n",
       "  ('.', '.'),\n",
       "  ('Have', 'VBP'),\n",
       "  ('a', 'DT'),\n",
       "  ('fantastic', 'JJ'),\n",
       "  ('day', 'NN'),\n",
       "  ('☺️', 'VB')]]"
      ]
     },
     "execution_count": 6,
     "metadata": {},
     "output_type": "execute_result"
    }
   ],
   "source": [
    "tagged[14:18]"
   ]
  },
  {
   "cell_type": "code",
   "execution_count": 7,
   "id": "deaa3894-7839-45ea-a049-34aa56b3f6a2",
   "metadata": {},
   "outputs": [
    {
     "name": "stdout",
     "output_type": "stream",
     "text": [
      "Extracted 199161 verbs!\n",
      "Here are 20 of them: ['are', 'is', 'am', 'want', 'ask', 'please', 'dont', 'mind', 'worked', 'see', \"'s\", 'think', 'refreshed', 'wrote', 'see', 'opened', 'saw', 'expire', 'said', 'expired']\n"
     ]
    }
   ],
   "source": [
    "# An or should do the work of these multiple if conditions\n",
    "# but it was giving me unexpected results\n",
    "\n",
    "verbs =[]\n",
    "for item in tagged:\n",
    "    for word, tag in item:\n",
    "        if tag == \"VB\":\n",
    "            verbs.append(word)\n",
    "        if tag == \"VBD\":\n",
    "            verbs.append(word)\n",
    "        if tag == \"VBP\":\n",
    "            verbs.append(word)\n",
    "        if tag == \"VBZ\":\n",
    "            verbs.append(word)\n",
    "print(f\"Extracted {len(verbs)} verbs!\")\n",
    "print(f\"Here are 20 of them: {verbs[0:20]}\")"
   ]
  },
  {
   "cell_type": "code",
   "execution_count": 8,
   "id": "564bf38d-b13c-4a0e-8c72-8a24c925263f",
   "metadata": {},
   "outputs": [],
   "source": [
    "from collections import Counter\n",
    "tallies = Counter(verbs)"
   ]
  },
  {
   "cell_type": "code",
   "execution_count": 9,
   "id": "9c67ce17-cf07-4b00-994a-90f4cd0c2836",
   "metadata": {},
   "outputs": [
    {
     "data": {
      "text/plain": [
       "[('is', 12502),\n",
       " ('have', 8212),\n",
       " ('are', 7822),\n",
       " ('span', 7456),\n",
       " ('<', 6304),\n",
       " ('be', 6222),\n",
       " ('do', 5968),\n",
       " ('was', 5757),\n",
       " (\"'s\", 4975),\n",
       " ('’', 4343),\n",
       " ('know', 4031),\n",
       " (\"'m\", 3827),\n",
       " ('get', 3387),\n",
       " ('am', 3112),\n",
       " ('see', 2785),\n",
       " ('think', 2205),\n",
       " ('did', 2056),\n",
       " ('has', 2009),\n",
       " ('had', 1798),\n",
       " ('want', 1797)]"
      ]
     },
     "execution_count": 9,
     "metadata": {},
     "output_type": "execute_result"
    }
   ],
   "source": [
    "tallies.most_common(20)"
   ]
  },
  {
   "cell_type": "markdown",
   "id": "d149593b-58e8-457c-9ca1-986ae537adb7",
   "metadata": {},
   "source": [
    "Counters are useful but limited. We pretty much know what the most common verbs are going to be at this point. I.e., the usual suspects. We want to explore the \"goldilocks zone.\"\n",
    "\n",
    "In many cases, I find it useful to save things to a CSV which I can then quickly scroll around in. "
   ]
  },
  {
   "cell_type": "code",
   "execution_count": 10,
   "id": "dbe8cc8d-4cf6-4b96-8292-36d8bc420f2e",
   "metadata": {},
   "outputs": [
    {
     "data": {
      "text/html": [
       "<div>\n",
       "<style scoped>\n",
       "    .dataframe tbody tr th:only-of-type {\n",
       "        vertical-align: middle;\n",
       "    }\n",
       "\n",
       "    .dataframe tbody tr th {\n",
       "        vertical-align: top;\n",
       "    }\n",
       "\n",
       "    .dataframe thead th {\n",
       "        text-align: right;\n",
       "    }\n",
       "</style>\n",
       "<table border=\"1\" class=\"dataframe\">\n",
       "  <thead>\n",
       "    <tr style=\"text-align: right;\">\n",
       "      <th></th>\n",
       "      <th>verb</th>\n",
       "      <th>count</th>\n",
       "    </tr>\n",
       "  </thead>\n",
       "  <tbody>\n",
       "    <tr>\n",
       "      <th>0</th>\n",
       "      <td>are</td>\n",
       "      <td>7822</td>\n",
       "    </tr>\n",
       "    <tr>\n",
       "      <th>1</th>\n",
       "      <td>is</td>\n",
       "      <td>12502</td>\n",
       "    </tr>\n",
       "    <tr>\n",
       "      <th>2</th>\n",
       "      <td>am</td>\n",
       "      <td>3112</td>\n",
       "    </tr>\n",
       "    <tr>\n",
       "      <th>3</th>\n",
       "      <td>want</td>\n",
       "      <td>1797</td>\n",
       "    </tr>\n",
       "    <tr>\n",
       "      <th>4</th>\n",
       "      <td>ask</td>\n",
       "      <td>370</td>\n",
       "    </tr>\n",
       "  </tbody>\n",
       "</table>\n",
       "</div>"
      ],
      "text/plain": [
       "   verb  count\n",
       "0   are   7822\n",
       "1    is  12502\n",
       "2    am   3112\n",
       "3  want   1797\n",
       "4   ask    370"
      ]
     },
     "execution_count": 10,
     "metadata": {},
     "output_type": "execute_result"
    }
   ],
   "source": [
    "df = pd.DataFrame.from_records(list(dict(tallies).items()), \n",
    "                               columns=['verb','count'])\n",
    "df.head()"
   ]
  },
  {
   "cell_type": "code",
   "execution_count": 11,
   "id": "c91980b6-0033-4261-b231-28552f4e1317",
   "metadata": {},
   "outputs": [],
   "source": [
    "# First we sort the dataframe by count\n",
    "df.sort_values(by=['count'], ascending=False, inplace=True)"
   ]
  },
  {
   "cell_type": "code",
   "execution_count": 12,
   "id": "29a5f783-addc-48b7-98d0-a8ab301f329a",
   "metadata": {},
   "outputs": [
    {
     "data": {
      "text/html": [
       "<div>\n",
       "<style scoped>\n",
       "    .dataframe tbody tr th:only-of-type {\n",
       "        vertical-align: middle;\n",
       "    }\n",
       "\n",
       "    .dataframe tbody tr th {\n",
       "        vertical-align: top;\n",
       "    }\n",
       "\n",
       "    .dataframe thead th {\n",
       "        text-align: right;\n",
       "    }\n",
       "</style>\n",
       "<table border=\"1\" class=\"dataframe\">\n",
       "  <thead>\n",
       "    <tr style=\"text-align: right;\">\n",
       "      <th></th>\n",
       "      <th>verb</th>\n",
       "      <th>count</th>\n",
       "    </tr>\n",
       "  </thead>\n",
       "  <tbody>\n",
       "    <tr>\n",
       "      <th>5</th>\n",
       "      <td>please</td>\n",
       "      <td>452</td>\n",
       "    </tr>\n",
       "    <tr>\n",
       "      <th>53</th>\n",
       "      <td>put</td>\n",
       "      <td>439</td>\n",
       "    </tr>\n",
       "    <tr>\n",
       "      <th>102</th>\n",
       "      <td>thought</td>\n",
       "      <td>432</td>\n",
       "    </tr>\n",
       "    <tr>\n",
       "      <th>311</th>\n",
       "      <td>read</td>\n",
       "      <td>432</td>\n",
       "    </tr>\n",
       "    <tr>\n",
       "      <th>21</th>\n",
       "      <td>Have</td>\n",
       "      <td>419</td>\n",
       "    </tr>\n",
       "    <tr>\n",
       "      <th>99</th>\n",
       "      <td>check</td>\n",
       "      <td>414</td>\n",
       "    </tr>\n",
       "    <tr>\n",
       "      <th>219</th>\n",
       "      <td>seems</td>\n",
       "      <td>398</td>\n",
       "    </tr>\n",
       "    <tr>\n",
       "      <th>131</th>\n",
       "      <td>sent</td>\n",
       "      <td>392</td>\n",
       "    </tr>\n",
       "    <tr>\n",
       "      <th>112</th>\n",
       "      <td>remember</td>\n",
       "      <td>391</td>\n",
       "    </tr>\n",
       "    <tr>\n",
       "      <th>305</th>\n",
       "      <td>change</td>\n",
       "      <td>387</td>\n",
       "    </tr>\n",
       "    <tr>\n",
       "      <th>4</th>\n",
       "      <td>ask</td>\n",
       "      <td>370</td>\n",
       "    </tr>\n",
       "    <tr>\n",
       "      <th>157</th>\n",
       "      <td>understand</td>\n",
       "      <td>367</td>\n",
       "    </tr>\n",
       "    <tr>\n",
       "      <th>84</th>\n",
       "      <td>mean</td>\n",
       "      <td>364</td>\n",
       "    </tr>\n",
       "    <tr>\n",
       "      <th>115</th>\n",
       "      <td>live</td>\n",
       "      <td>362</td>\n",
       "    </tr>\n",
       "    <tr>\n",
       "      <th>377</th>\n",
       "      <td>..</td>\n",
       "      <td>359</td>\n",
       "    </tr>\n",
       "    <tr>\n",
       "      <th>127</th>\n",
       "      <td>took</td>\n",
       "      <td>358</td>\n",
       "    </tr>\n",
       "    <tr>\n",
       "      <th>352</th>\n",
       "      <td>start</td>\n",
       "      <td>353</td>\n",
       "    </tr>\n",
       "    <tr>\n",
       "      <th>276</th>\n",
       "      <td>works</td>\n",
       "      <td>348</td>\n",
       "    </tr>\n",
       "    <tr>\n",
       "      <th>218</th>\n",
       "      <td>says</td>\n",
       "      <td>347</td>\n",
       "    </tr>\n",
       "    <tr>\n",
       "      <th>171</th>\n",
       "      <td>hear</td>\n",
       "      <td>343</td>\n",
       "    </tr>\n",
       "  </tbody>\n",
       "</table>\n",
       "</div>"
      ],
      "text/plain": [
       "           verb  count\n",
       "5        please    452\n",
       "53          put    439\n",
       "102     thought    432\n",
       "311        read    432\n",
       "21         Have    419\n",
       "99        check    414\n",
       "219       seems    398\n",
       "131        sent    392\n",
       "112    remember    391\n",
       "305      change    387\n",
       "4           ask    370\n",
       "157  understand    367\n",
       "84         mean    364\n",
       "115        live    362\n",
       "377          ..    359\n",
       "127        took    358\n",
       "352       start    353\n",
       "276       works    348\n",
       "218        says    347\n",
       "171        hear    343"
      ]
     },
     "execution_count": 12,
     "metadata": {},
     "output_type": "execute_result"
    }
   ],
   "source": [
    "# Then we look a little further down the table\n",
    "df[60:80]"
   ]
  },
  {
   "cell_type": "code",
   "execution_count": 13,
   "id": "6fe693ba-b9b2-4fd5-8c40-e2eebefe5e33",
   "metadata": {},
   "outputs": [],
   "source": [
    "# Code to find nouns associated with the verb \"remember\""
   ]
  }
 ],
 "metadata": {
  "kernelspec": {
   "display_name": "Python 3 (ipykernel)",
   "language": "python",
   "name": "python3"
  },
  "language_info": {
   "codemirror_mode": {
    "name": "ipython",
    "version": 3
   },
   "file_extension": ".py",
   "mimetype": "text/x-python",
   "name": "python",
   "nbconvert_exporter": "python",
   "pygments_lexer": "ipython3",
   "version": "3.11.7"
  }
 },
 "nbformat": 4,
 "nbformat_minor": 5
}
