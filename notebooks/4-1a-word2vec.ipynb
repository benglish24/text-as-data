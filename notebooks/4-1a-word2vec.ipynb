{
 "cells": [
  {
   "cell_type": "markdown",
   "id": "eabfafbb-e492-4e94-a512-4c4900a6de91",
   "metadata": {},
   "source": [
    "# Word2Vec in Action"
   ]
  },
  {
   "cell_type": "markdown",
   "id": "5d2035cd-0990-4c0c-86db-fd7ebb9c9529",
   "metadata": {},
   "source": [
    "Please, please, please remember that almost all the libraries we use in this course come with documentation. The quality of the documentation, in terms of readability, varies, but it is almost always available. (Readability is also a function of your own expertise: as you get better, you'll find that you can get what you need even if the prose isn't terribly clear.)\n",
    "\n",
    "The version of **Word2Vec** we are using this week is part of [Gensim](https://radimrehurek.com/gensim/index.html) an open source project started by a Czech scientist Rahim Radurek and is now maintained by a core group that is based around the world. [The documentation is pretty good](https://radimrehurek.com/gensim/models/word2vec.html).\n",
    "\n",
    "<div class=\"alert alert-block alert-warning\">\n",
    "<b>One thing to note</b>: Gensim is licensed under the OSI-approved GNU LGPLv2.1 license. This means that it’s free for both personal and commercial use, but if you make any modification to Gensim that you distribute to other people, you have to disclose the source code of these modifications. Some organizations may not be comfortable tiw this. If so, a commercial license is available. (Also, note to yourself that licenses matter.</div>"
   ]
  },
  {
   "cell_type": "code",
   "execution_count": null,
   "id": "5deef903-385b-482e-9de8-6ea41c743901",
   "metadata": {},
   "outputs": [],
   "source": [
    "# IMPORTS\n",
    "import re\n",
    "import numpy as np\n",
    "from nltk.tokenize import sent_tokenize, word_tokenize\n",
    "from gensim.models import Word2Vec\n",
    "from sklearn.decomposition import PCA\n",
    "from matplotlib import pyplot as plt\n",
    "\n",
    "# My usual preferences\n",
    "plt.rcParams['figure.dpi'] = 300\n",
    "plt.rcParams[\"figure.figsize\"] = (10,5)"
   ]
  },
  {
   "cell_type": "code",
   "execution_count": null,
   "id": "126c0e42-363e-4319-8bc8-454ae7e18159",
   "metadata": {},
   "outputs": [],
   "source": [
    "# Many of these libraries come with their own test data / toy corpora.\n",
    "from gensim.test.utils import common_texts\n",
    "print(common_texts[0:3])"
   ]
  },
  {
   "cell_type": "code",
   "execution_count": null,
   "id": "b970f7a9-e157-4ff6-9b7a-3a28f76bfe97",
   "metadata": {},
   "outputs": [],
   "source": [
    "# Toy corpus\n",
    "# Pretend we tokenized, lowered, and removed punctuation\n",
    "sentences = [['i', 'like', 'apple', 'pie', 'for', 'dessert'],\n",
    "            ['i', 'dont', 'drive', 'fast', 'cars'],\n",
    "            ['data', 'science', 'is', 'fun'],\n",
    "            ['chocolate', 'is', 'my', 'favorite'],\n",
    "            ['my', 'favorite', 'movie', 'is', 'predator']]"
   ]
  },
  {
   "cell_type": "markdown",
   "id": "a7d239de-8de3-4ff4-b0f7-936deca7764e",
   "metadata": {},
   "source": [
    "## Basics of `Word2Vec`"
   ]
  },
  {
   "cell_type": "markdown",
   "id": "383d248b-b047-4d28-bb2c-3d84f2fc01f7",
   "metadata": {},
   "source": [
    "**Word2Vec Parameters**\n",
    "- `min_count` : the minimum number of times a word must occur to be included\n",
    "- `size` : the length of the vector (it will otherwise create a vector for all the words)\n",
    "- `window` : how many words to include on either side of the target word"
   ]
  }
 ],
 "metadata": {
  "kernelspec": {
   "display_name": "Python 3 (ipykernel)",
   "language": "python",
   "name": "python3"
  },
  "language_info": {
   "codemirror_mode": {
    "name": "ipython",
    "version": 3
   },
   "file_extension": ".py",
   "mimetype": "text/x-python",
   "name": "python",
   "nbconvert_exporter": "python",
   "pygments_lexer": "ipython3",
   "version": "3.11.7"
  }
 },
 "nbformat": 4,
 "nbformat_minor": 5
}
