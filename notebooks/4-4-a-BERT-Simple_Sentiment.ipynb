{
 "cells": [
  {
   "cell_type": "markdown",
   "id": "77aa2bd3-0a8c-4aa3-9528-35ca68bce64b",
   "metadata": {},
   "source": [
    "# Simple BERT for Sentiment"
   ]
  },
  {
   "cell_type": "markdown",
   "id": "6bc708fb-5ced-4db8-a2c7-08c459c2244d",
   "metadata": {},
   "source": [
    "Please note that the values will shift somewhat each time you run this code. Having noted that, take a look at the values for the subsequent \"reviews\" and tell me what you think."
   ]
  },
  {
   "cell_type": "code",
   "execution_count": 1,
   "id": "1bb47b49-43fc-4f0e-b6c5-910eefcdf87f",
   "metadata": {},
   "outputs": [
    {
     "name": "stderr",
     "output_type": "stream",
     "text": [
      "Some weights of BertForSequenceClassification were not initialized from the model checkpoint at bert-base-uncased and are newly initialized: ['classifier.bias', 'classifier.weight']\n",
      "You should probably TRAIN this model on a down-stream task to be able to use it for predictions and inference.\n"
     ]
    },
    {
     "name": "stdout",
     "output_type": "stream",
     "text": [
      "Sentiment: Positive\n",
      "Score: 0.5155068039894104\n"
     ]
    }
   ],
   "source": [
    "from transformers import pipeline\n",
    "\n",
    "# Load BERT model for text classification\n",
    "classifier = pipeline(\"sentiment-analysis\", model=\"bert-base-uncased\")\n",
    "\n",
    "# Define input text\n",
    "text = \"It was a fantastic movie and I loved it!\"\n",
    "\n",
    "# Perform sentiment analysis\n",
    "result = classifier(text)\n",
    "\n",
    "# Map output label to human-readable sentiment\n",
    "if result[0]['label'] == 'LABEL_1':\n",
    "    sentiment_label = 'Positive'\n",
    "else:\n",
    "    sentiment_label = 'Negative'\n",
    "\n",
    "# Print result\n",
    "print(\"Sentiment:\", sentiment_label)\n",
    "print(\"Score:\", result[0]['score'])"
   ]
  },
  {
   "cell_type": "code",
   "execution_count": 2,
   "id": "72bd7e2e-4e3a-4b58-85fb-9253a6f89f8a",
   "metadata": {},
   "outputs": [
    {
     "name": "stdout",
     "output_type": "stream",
     "text": [
      "[{'label': 'LABEL_1', 'score': 0.5155068039894104}]\n"
     ]
    }
   ],
   "source": [
    "print(result)"
   ]
  },
  {
   "cell_type": "code",
   "execution_count": 3,
   "id": "b7e18fcf-dd05-470b-a8dc-83819c716be0",
   "metadata": {},
   "outputs": [
    {
     "name": "stdout",
     "output_type": "stream",
     "text": [
      "[{'label': 'LABEL_1', 'score': 0.5586618185043335}]\n"
     ]
    }
   ],
   "source": [
    "# Let's try that again:\n",
    "print(classifier(\"I hated that movie.\"))"
   ]
  },
  {
   "cell_type": "code",
   "execution_count": 4,
   "id": "bb1c022a-4826-4be0-a668-dc642a92844a",
   "metadata": {},
   "outputs": [
    {
     "name": "stdout",
     "output_type": "stream",
     "text": [
      "[{'label': 'LABEL_1', 'score': 0.5638121962547302}]\n"
     ]
    }
   ],
   "source": [
    "# And again:\n",
    "print(classifier(\"That movie sucked.\"))"
   ]
  }
 ],
 "metadata": {
  "kernelspec": {
   "display_name": "Python 3 (ipykernel)",
   "language": "python",
   "name": "python3"
  },
  "language_info": {
   "codemirror_mode": {
    "name": "ipython",
    "version": 3
   },
   "file_extension": ".py",
   "mimetype": "text/x-python",
   "name": "python",
   "nbconvert_exporter": "python",
   "pygments_lexer": "ipython3",
   "version": "3.11.7"
  }
 },
 "nbformat": 4,
 "nbformat_minor": 5
}
