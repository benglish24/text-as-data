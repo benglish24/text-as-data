{
 "cells": [
  {
   "cell_type": "markdown",
   "metadata": {},
   "source": [
    "# Getting Lyrics"
   ]
  },
  {
   "cell_type": "code",
   "execution_count": 10,
   "metadata": {},
   "outputs": [],
   "source": [
    "import urllib.request\n",
    "from bs4 import BeautifulSoup\n",
    "\n",
    "# My starting web page\n",
    "myurl = \"https://www.azlyrics.com/m/mfdoom.html\"\n",
    "\n",
    "# How urllib expects:\n",
    "myconnection = urllib.request.urlopen(myurl)\n",
    "myhtml = myconnection.read()"
   ]
  },
  {
   "cell_type": "code",
   "execution_count": 9,
   "metadata": {},
   "outputs": [
    {
     "name": "stdout",
     "output_type": "stream",
     "text": [
      "b'<!DOCTYPE html>\\r\\n<html lang=\"en\">\\r\\n  <head>\\r\\n    <'\n"
     ]
    }
   ],
   "source": [
    "print(myhtml[0:50])"
   ]
  },
  {
   "cell_type": "code",
   "execution_count": 11,
   "metadata": {},
   "outputs": [
    {
     "name": "stdout",
     "output_type": "stream",
     "text": [
      "<div class=\"listalbum-item\"><a href=\"/lyrics/mfdoom/thetimewefaceddoomskit.html\" target=\"_blank\">The Time We Faced Doom (Skit)</a></div>\n",
      "<div class=\"listalbum-item\"><a href=\"/lyrics/mfdoom/doomsday.html\" target=\"_blank\">Doomsday</a></div>\n"
     ]
    }
   ],
   "source": [
    "# Parse the divs with the song links\n",
    "mysoup = BeautifulSoup(myhtml, \"lxml\")\n",
    "mydivs = mysoup.find_all(class_=\"listalbum-item\")\n",
    "\n",
    "# Check work\n",
    "# print(type(mydivs))\n",
    "for i in mydivs[0:2]:\n",
    "    print(i)"
   ]
  },
  {
   "cell_type": "code",
   "execution_count": 12,
   "metadata": {},
   "outputs": [
    {
     "ename": "TypeError",
     "evalue": "list indices must be integers or slices, not str",
     "output_type": "error",
     "traceback": [
      "\u001b[0;31m---------------------------------------------------------------------------\u001b[0m",
      "\u001b[0;31mTypeError\u001b[0m                                 Traceback (most recent call last)",
      "Cell \u001b[0;32mIn[12], line 6\u001b[0m\n\u001b[1;32m      4\u001b[0m \u001b[38;5;66;03m# Iterate over the list of DIVs\u001b[39;00m\n\u001b[1;32m      5\u001b[0m \u001b[38;5;28;01mfor\u001b[39;00m div \u001b[38;5;129;01min\u001b[39;00m mydivs:\n\u001b[0;32m----> 6\u001b[0m     the_link \u001b[38;5;241m=\u001b[39m \u001b[43mdiv\u001b[49m\u001b[38;5;241;43m.\u001b[39;49m\u001b[43mfind_all\u001b[49m\u001b[43m(\u001b[49m\u001b[38;5;124;43m'\u001b[39;49m\u001b[38;5;124;43ma\u001b[39;49m\u001b[38;5;124;43m'\u001b[39;49m\u001b[43m)\u001b[49m\u001b[43m[\u001b[49m\u001b[38;5;124;43m'\u001b[39;49m\u001b[38;5;124;43mhref\u001b[39;49m\u001b[38;5;124;43m'\u001b[39;49m\u001b[43m]\u001b[49m\n\u001b[1;32m      7\u001b[0m     links\u001b[38;5;241m.\u001b[39mappend(the_link)\n\u001b[1;32m      9\u001b[0m \u001b[38;5;66;03m# Check results\u001b[39;00m\n",
      "\u001b[0;31mTypeError\u001b[0m: list indices must be integers or slices, not str"
     ]
    }
   ],
   "source": [
    "# Empty list to hold the results\n",
    "links = []\n",
    "\n",
    "# Iterate over the list of DIVs\n",
    "for div in mydivs:\n",
    "    the_link = div.find_all('a')['href']\n",
    "    links.append(the_link)\n",
    "\n",
    "# Check results\n",
    "print(len(links))"
   ]
  },
  {
   "cell_type": "markdown",
   "metadata": {},
   "source": [
    "Okay, so now we have some piece of the URL we want to use in a list.\n",
    "\n",
    "Let's take a look at the URL we are trying to replicate:\n",
    "```\n",
    "https://www.azlyrics.com/lyrics/mfdoom/meddlewithmetal.html\n",
    "```\n",
    "\n",
    "It looks like all we need to do is prepend `https://www.azlyrics.com` to build the full URL. (Note that we have a slash already, so we don't need the trailing slash in our base URL.)"
   ]
  },
  {
   "cell_type": "markdown",
   "metadata": {},
   "source": [
    "### Using Our List of Links to Download Files\n",
    "\n",
    "If you are comfortable downloading files in your current directory, then you can start doing that. If you want to see where you are, you can use one of the built-in \"magic\" commands, like `%pwd`, which should return something like:\n",
    "```\n",
    "'/Path/to/where/you/are'\n",
    "```\n",
    "You can then change to where you want to save the files, `%cd /Path/to/desired/directory`. "
   ]
  },
  {
   "cell_type": "code",
   "execution_count": 4,
   "metadata": {},
   "outputs": [],
   "source": [
    "# Our list of links all start at /lyrics\n",
    "# So we need to prepend the site URL\n",
    "baseURL = \"https://www.azlyrics.com\"\n",
    "\n",
    "# When we go to save the files, \n",
    "# we want to remove this part of the link string:\n",
    "myfilter = \"/lyrics/mfdoom/\"\n",
    "\n",
    "for link in links:\n",
    "    remotefile = urllib.request.urlopen(baseURL+link)\n",
    "    filename = link.replace(myfilter, '')\n",
    "    localfile = open(filename,'wb')\n",
    "    localfile.write(remotefile.read())\n",
    "    localfile.close()\n",
    "    remotefile.close()"
   ]
  }
 ],
 "metadata": {
  "celltoolbar": "Slideshow",
  "kernelspec": {
   "display_name": "Python 3 (ipykernel)",
   "language": "python",
   "name": "python3"
  },
  "language_info": {
   "codemirror_mode": {
    "name": "ipython",
    "version": 3
   },
   "file_extension": ".py",
   "mimetype": "text/x-python",
   "name": "python",
   "nbconvert_exporter": "python",
   "pygments_lexer": "ipython3",
   "version": "3.11.7"
  }
 },
 "nbformat": 4,
 "nbformat_minor": 4
}
