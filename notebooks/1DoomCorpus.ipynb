{
 "cells": [
  {
   "cell_type": "code",
   "execution_count": 9,
   "metadata": {},
   "outputs": [],
   "source": [
    "import os\n",
    "from bs4 import BeautifulSoup\n",
    "\n",
    "# Function to extract text content from raw <div> elements\n",
    "def extract_raw_div_content(file_path):\n",
    "    with open(file_path, 'r', encoding='utf-8') as file:\n",
    "        html_content = file.read()\n",
    "\n",
    "    soup = BeautifulSoup(html_content, 'html.parser')\n",
    "    \n",
    "    # Extract text content from raw <div> elements (without class or id)\n",
    "    raw_div_data = []\n",
    "    for div_element in soup.find_all('div', class_=False, id=False):\n",
    "        raw_div_data.append(div_element.text.strip())\n",
    "\n",
    "    return raw_div_data\n",
    "\n",
    "# Folder containing HTML files\n",
    "folder_path = '../notebooks'\n",
    "\n",
    "# Output text file\n",
    "output_file = '1Doom.txt'\n",
    "\n",
    "# Iterate through HTML files in the folder\n",
    "with open(output_file, 'w', encoding='utf-8') as output_txt:\n",
    "    for filename in os.listdir(folder_path):\n",
    "        if filename.endswith('.html'):\n",
    "            file_path = os.path.join(folder_path, filename)\n",
    "            raw_div_info = extract_raw_div_content(file_path)\n",
    "            \n",
    "            # Write raw <div> information to the output text file\n",
    "            output_txt.write(f\"File: {filename}\\n\")\n",
    "            for info in raw_div_info:\n",
    "                output_txt.write(f\"{info}\\n\")\n",
    "            output_txt.write('\\n')\n"
   ]
  },
  {
   "cell_type": "code",
   "execution_count": 21,
   "metadata": {},
   "outputs": [
    {
     "name": "stdout",
     "output_type": "stream",
     "text": [
      "File: 520102.html\n",
      "[Dr. Doom:]\n",
      "My servants began to forge what was to become\n",
      "The most dreaded costume\n"
     ]
    }
   ],
   "source": [
    "import re\n",
    "import os\n",
    "Doom = open('1Doom.txt', 'r', encoding = 'utf-8').read()\n",
    "mdg_words = re.sub(\"[^a-zA-Z']\",\" \", Doom).lower().split()\n",
    "\n",
    "len(Doom)\n",
    "print(Doom[0:100])\n"
   ]
  }
 ],
 "metadata": {
  "kernelspec": {
   "display_name": "Python 3",
   "language": "python",
   "name": "python3"
  },
  "language_info": {
   "codemirror_mode": {
    "name": "ipython",
    "version": 3
   },
   "file_extension": ".py",
   "mimetype": "text/x-python",
   "name": "python",
   "nbconvert_exporter": "python",
   "pygments_lexer": "ipython3",
   "version": "3.11.7"
  }
 },
 "nbformat": 4,
 "nbformat_minor": 2
}
