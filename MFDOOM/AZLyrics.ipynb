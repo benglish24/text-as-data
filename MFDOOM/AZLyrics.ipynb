{
 "cells": [
  {
   "cell_type": "code",
   "execution_count": 5,
   "metadata": {},
   "outputs": [
    {
     "name": "stdout",
     "output_type": "stream",
     "text": [
      "URLs extracted and saved to: AZLyrics/search.txt\\MFDoom.txt\n"
     ]
    }
   ],
   "source": [
    "import urllib.request\n",
    "from bs4 import BeautifulSoup\n",
    "import time\n",
    "import random\n",
    "import pandas as pd\n",
    "\n",
    "\n",
    "# My starting web page\n",
    "myurl = \"https://www.azlyrics.com/m/mfdoom.html\"\n",
    "\n",
    "# How urllib expects:\n",
    "myconnection = urllib.request.urlopen(myurl)\n",
    "myhtml = myconnection.read()\n",
    "\n",
    "# Check to see that things work\n",
    "print(myhtml[0:100])\n"
   ]
  },
  {
   "cell_type": "code",
   "execution_count": null,
   "metadata": {},
   "outputs": [],
   "source": [
    "# Parse the divs with the song links\n",
    "\n",
    "mysoup = BeautifulSoup(myhtml, \"html\")\n",
    "mydivs = mysoup.find_all(class_=\"listalbum-item\")\n",
    "\n",
    "\n",
    "print(type(mydivs))\n",
    "\n",
    "for i in mydivs:\n",
    "    \n",
    "    print(i)"
   ]
  },
  {
   "cell_type": "markdown",
   "metadata": {},
   "source": [
    "# Empty list to hold the results\n",
    "links = []\n",
    "counter = 0\n",
    "# Iterate over the list of DIVs\n",
    "for div in mydivs:\n",
    "    if not div.find('div',class_= 'comment'):\n",
    "        the_link = div.find('a')['href']\n",
    "        links.append(the_link)\n",
    "        counter+=1\n",
    "    print(div)\n",
    "# Check results\n",
    "print(links)\n",
    "print(counter)"
   ]
  },
  {
   "cell_type": "code",
   "execution_count": null,
   "metadata": {},
   "outputs": [],
   "source": [
    "# Our list of links all start at /lyrics\n",
    "# So we need to prepend the site URL\n",
    "baseURL = \"https://www.azlyrics.com\"\n",
    "\n",
    "# When we go to save the files, \n",
    "# we want to remove this part of the link string:\n",
    "myfilter = \"/lyrics/mfdoom/\"\n",
    "\n",
    "for link in links:\n",
    "    remotefile = urllib.request.urlopen(baseURL+link)\n",
    "    filename = link.replace(myfilter, '')\n",
    "    time.sleep(random.randint(20,30))\n",
    "    localfile = open(filename,'wb')\n",
    "    localfile.write(remotefile.read())\n",
    "    localfile.close()\n",
    "    remotefile.close()\n",
    "    print(link)"
   ]
  },
  {
   "cell_type": "code",
   "execution_count": null,
   "metadata": {},
   "outputs": [],
   "source": []
  }
 ],
 "metadata": {
  "kernelspec": {
   "display_name": "Python 3",
   "language": "python",
   "name": "python3"
  },
  "language_info": {
   "codemirror_mode": {
    "name": "ipython",
    "version": 3
   },
   "file_extension": ".py",
   "mimetype": "text/x-python",
   "name": "python",
   "nbconvert_exporter": "python",
   "pygments_lexer": "ipython3",
   "version": "3.11.7"
  }
 },
 "nbformat": 4,
 "nbformat_minor": 2
}
